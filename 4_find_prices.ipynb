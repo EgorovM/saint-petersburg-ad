{
 "cells": [
  {
   "cell_type": "code",
   "execution_count": 1,
   "metadata": {},
   "outputs": [],
   "source": [
    "import pandas as pd\n",
    "import numpy as np"
   ]
  },
  {
   "cell_type": "code",
   "execution_count": 4,
   "metadata": {},
   "outputs": [],
   "source": [
    "df_locations = pd.read_csv('data/topics_coordinates.csv', sep='\\t')"
   ]
  },
  {
   "cell_type": "code",
   "execution_count": 5,
   "metadata": {},
   "outputs": [],
   "source": [
    "df = pd.read_csv('data/square_prices.csv', sep='\\t', index_col=0)"
   ]
  },
  {
   "cell_type": "code",
   "execution_count": 6,
   "metadata": {},
   "outputs": [
    {
     "data": {
      "text/html": [
       "<div>\n",
       "<style scoped>\n",
       "    .dataframe tbody tr th:only-of-type {\n",
       "        vertical-align: middle;\n",
       "    }\n",
       "\n",
       "    .dataframe tbody tr th {\n",
       "        vertical-align: top;\n",
       "    }\n",
       "\n",
       "    .dataframe thead th {\n",
       "        text-align: right;\n",
       "    }\n",
       "</style>\n",
       "<table border=\"1\" class=\"dataframe\">\n",
       "  <thead>\n",
       "    <tr style=\"text-align: right;\">\n",
       "      <th></th>\n",
       "      <th>price</th>\n",
       "    </tr>\n",
       "    <tr>\n",
       "      <th>square_contain_id</th>\n",
       "      <th></th>\n",
       "    </tr>\n",
       "  </thead>\n",
       "  <tbody>\n",
       "    <tr>\n",
       "      <th>357107.0</th>\n",
       "      <td>3700</td>\n",
       "    </tr>\n",
       "    <tr>\n",
       "      <th>218220.0</th>\n",
       "      <td>3000</td>\n",
       "    </tr>\n",
       "    <tr>\n",
       "      <th>121968.0</th>\n",
       "      <td>2500</td>\n",
       "    </tr>\n",
       "    <tr>\n",
       "      <th>121968.0</th>\n",
       "      <td>2700</td>\n",
       "    </tr>\n",
       "    <tr>\n",
       "      <th>121968.0</th>\n",
       "      <td>3000</td>\n",
       "    </tr>\n",
       "    <tr>\n",
       "      <th>...</th>\n",
       "      <td>...</td>\n",
       "    </tr>\n",
       "    <tr>\n",
       "      <th>194520.0</th>\n",
       "      <td>590</td>\n",
       "    </tr>\n",
       "    <tr>\n",
       "      <th>194520.0</th>\n",
       "      <td>1290</td>\n",
       "    </tr>\n",
       "    <tr>\n",
       "      <th>194520.0</th>\n",
       "      <td>1950</td>\n",
       "    </tr>\n",
       "    <tr>\n",
       "      <th>356408.0</th>\n",
       "      <td>1650</td>\n",
       "    </tr>\n",
       "    <tr>\n",
       "      <th>184970.0</th>\n",
       "      <td>400</td>\n",
       "    </tr>\n",
       "  </tbody>\n",
       "</table>\n",
       "<p>431095 rows × 1 columns</p>\n",
       "</div>"
      ],
      "text/plain": [
       "                   price\n",
       "square_contain_id       \n",
       "357107.0            3700\n",
       "218220.0            3000\n",
       "121968.0            2500\n",
       "121968.0            2700\n",
       "121968.0            3000\n",
       "...                  ...\n",
       "194520.0             590\n",
       "194520.0            1290\n",
       "194520.0            1950\n",
       "356408.0            1650\n",
       "184970.0             400\n",
       "\n",
       "[431095 rows x 1 columns]"
      ]
     },
     "execution_count": 6,
     "metadata": {},
     "output_type": "execute_result"
    }
   ],
   "source": [
    "df"
   ]
  },
  {
   "cell_type": "code",
   "execution_count": 9,
   "metadata": {},
   "outputs": [],
   "source": [
    "import matplotlib.pyplot as plt\n",
    "import seaborn as sns"
   ]
  },
  {
   "cell_type": "code",
   "execution_count": 10,
   "metadata": {},
   "outputs": [
    {
     "name": "stderr",
     "output_type": "stream",
     "text": [
      "/Users/michil/.virtualenvs/best_manik/lib/python3.8/site-packages/seaborn/_decorators.py:36: FutureWarning: Pass the following variables as keyword args: x, y. From version 0.12, the only valid positional argument will be `data`, and passing other arguments without an explicit keyword will result in an error or misinterpretation.\n",
      "  warnings.warn(\n"
     ]
    },
    {
     "data": {
      "text/plain": [
       "[Text(0.5, 0, 'Цена'),\n",
       " Text(0, 0.5, 'Доля записей'),\n",
       " Text(0.5, 1.0, 'Распределение цен')]"
      ]
     },
     "execution_count": 10,
     "metadata": {},
     "output_type": "execute_result"
    },
    {
     "data": {
      "image/png": "[encoded data removed]",
      "text/plain": [
       "<Figure size 504x360 with 1 Axes>"
      ]
     },
     "metadata": {
      "needs_background": "light"
     },
     "output_type": "display_data"
    }
   ],
   "source": [
    "plt.figure(figsize=(7, 5))\n",
    "ax = sns.kdeplot(df[df['price'].between(100, 10000)]['price'])\n",
    "xlabels = ax.lines[0].get_xdata()\n",
    "ylabels = ax.lines[0].get_ydata()\n",
    "\n",
    "max_y_i = [\n",
    "    (ylabels[i], i) \n",
    "    for i in range(1, len(ylabels)-1) \n",
    "    if ylabels[i-1] <= ylabels[i] and ylabels[i] >= ylabels[i+1]]\n",
    "\n",
    "del max_y_i[3]\n",
    "del max_y_i[3]\n",
    "del max_y_i[4]\n",
    "del max_y_i[4]\n",
    "del max_y_i[5]\n",
    "del max_y_i[5]\n",
    "del max_y_i[6]\n",
    "del max_y_i[6]\n",
    "del max_y_i[7]\n",
    "del max_y_i[7]\n",
    "\n",
    "\n",
    "sns.scatterplot(list(map(lambda x: xlabels[x[1]], max_y_i)), list(map(lambda x: x[0], max_y_i)))\n",
    "\n",
    "for y, i in max_y_i[:10]:\n",
    "    x = xlabels[i]  \n",
    "    ax.annotate(np.round(x, 0), (x, y+0.000005))\n",
    "    \n",
    "ax.set(xlabel='Цена', ylabel='Доля записей', title='Распределение цен')"
   ]
  },
  {
   "cell_type": "code",
   "execution_count": 11,
   "metadata": {},
   "outputs": [],
   "source": [
    "df_prices_coordinates = df.merge(df_locations[['square_contain_id', 'topic', 'latitude', 'longitude']], on='square_contain_id', how='left').drop_duplicates().dropna()"
   ]
  },
  {
   "cell_type": "code",
   "execution_count": 12,
   "metadata": {},
   "outputs": [],
   "source": [
    "df_prices_coordinates.topic = df_prices_coordinates.topic.apply(eval)"
   ]
  },
  {
   "cell_type": "code",
   "execution_count": 13,
   "metadata": {},
   "outputs": [],
   "source": [
    "df_prices_coordinates = df_prices_coordinates.explode('topic')"
   ]
  },
  {
   "cell_type": "code",
   "execution_count": 14,
   "metadata": {},
   "outputs": [],
   "source": [
    "df_grouped = df_prices_coordinates.groupby(['square_contain_id']).agg({'price': ['min', 'median', 'max'], 'latitude': ['min'], 'longitude': ['min']})"
   ]
  },
  {
   "cell_type": "code",
   "execution_count": 15,
   "metadata": {},
   "outputs": [
    {
     "data": {
      "text/html": [
       "<div>\n",
       "<style scoped>\n",
       "    .dataframe tbody tr th:only-of-type {\n",
       "        vertical-align: middle;\n",
       "    }\n",
       "\n",
       "    .dataframe tbody tr th {\n",
       "        vertical-align: top;\n",
       "    }\n",
       "\n",
       "    .dataframe thead tr th {\n",
       "        text-align: left;\n",
       "    }\n",
       "\n",
       "    .dataframe thead tr:last-of-type th {\n",
       "        text-align: right;\n",
       "    }\n",
       "</style>\n",
       "<table border=\"1\" class=\"dataframe\">\n",
       "  <thead>\n",
       "    <tr>\n",
       "      <th></th>\n",
       "      <th colspan=\"3\" halign=\"left\">price</th>\n",
       "      <th>latitude</th>\n",
       "      <th>longitude</th>\n",
       "    </tr>\n",
       "    <tr>\n",
       "      <th></th>\n",
       "      <th>min</th>\n",
       "      <th>median</th>\n",
       "      <th>max</th>\n",
       "      <th>min</th>\n",
       "      <th>min</th>\n",
       "    </tr>\n",
       "    <tr>\n",
       "      <th>square_contain_id</th>\n",
       "      <th></th>\n",
       "      <th></th>\n",
       "      <th></th>\n",
       "      <th></th>\n",
       "      <th></th>\n",
       "    </tr>\n",
       "  </thead>\n",
       "  <tbody>\n",
       "    <tr>\n",
       "      <th>56384.0</th>\n",
       "      <td>180</td>\n",
       "      <td>1895.0</td>\n",
       "      <td>71000</td>\n",
       "      <td>60.041502</td>\n",
       "      <td>30.325467</td>\n",
       "    </tr>\n",
       "    <tr>\n",
       "      <th>56455.0</th>\n",
       "      <td>100</td>\n",
       "      <td>2385.0</td>\n",
       "      <td>20000</td>\n",
       "      <td>60.041223</td>\n",
       "      <td>30.389278</td>\n",
       "    </tr>\n",
       "    <tr>\n",
       "      <th>57750.0</th>\n",
       "      <td>260</td>\n",
       "      <td>1600.0</td>\n",
       "      <td>82500</td>\n",
       "      <td>60.040585</td>\n",
       "      <td>30.407930</td>\n",
       "    </tr>\n",
       "    <tr>\n",
       "      <th>57800.0</th>\n",
       "      <td>100</td>\n",
       "      <td>1350.0</td>\n",
       "      <td>315000</td>\n",
       "      <td>60.040426</td>\n",
       "      <td>30.453263</td>\n",
       "    </tr>\n",
       "    <tr>\n",
       "      <th>58294.0</th>\n",
       "      <td>100</td>\n",
       "      <td>2590.0</td>\n",
       "      <td>239590</td>\n",
       "      <td>60.039948</td>\n",
       "      <td>30.324894</td>\n",
       "    </tr>\n",
       "    <tr>\n",
       "      <th>...</th>\n",
       "      <td>...</td>\n",
       "      <td>...</td>\n",
       "      <td>...</td>\n",
       "      <td>...</td>\n",
       "      <td>...</td>\n",
       "    </tr>\n",
       "    <tr>\n",
       "      <th>356645.0</th>\n",
       "      <td>100</td>\n",
       "      <td>2440.0</td>\n",
       "      <td>300000</td>\n",
       "      <td>59.829482</td>\n",
       "      <td>30.535731</td>\n",
       "    </tr>\n",
       "    <tr>\n",
       "      <th>357071.0</th>\n",
       "      <td>100</td>\n",
       "      <td>3250.0</td>\n",
       "      <td>838625</td>\n",
       "      <td>59.829050</td>\n",
       "      <td>30.346300</td>\n",
       "    </tr>\n",
       "    <tr>\n",
       "      <th>357107.0</th>\n",
       "      <td>100</td>\n",
       "      <td>1990.0</td>\n",
       "      <td>30400</td>\n",
       "      <td>59.829213</td>\n",
       "      <td>30.378233</td>\n",
       "    </tr>\n",
       "    <tr>\n",
       "      <th>357153.0</th>\n",
       "      <td>100</td>\n",
       "      <td>1835.0</td>\n",
       "      <td>38000</td>\n",
       "      <td>59.828820</td>\n",
       "      <td>30.419760</td>\n",
       "    </tr>\n",
       "    <tr>\n",
       "      <th>364331.0</th>\n",
       "      <td>100</td>\n",
       "      <td>2000.0</td>\n",
       "      <td>150000</td>\n",
       "      <td>59.823862</td>\n",
       "      <td>30.573066</td>\n",
       "    </tr>\n",
       "  </tbody>\n",
       "</table>\n",
       "<p>1632 rows × 5 columns</p>\n",
       "</div>"
      ],
      "text/plain": [
       "                  price                   latitude  longitude\n",
       "                    min  median     max        min        min\n",
       "square_contain_id                                            \n",
       "56384.0             180  1895.0   71000  60.041502  30.325467\n",
       "56455.0             100  2385.0   20000  60.041223  30.389278\n",
       "57750.0             260  1600.0   82500  60.040585  30.407930\n",
       "57800.0             100  1350.0  315000  60.040426  30.453263\n",
       "58294.0             100  2590.0  239590  60.039948  30.324894\n",
       "...                 ...     ...     ...        ...        ...\n",
       "356645.0            100  2440.0  300000  59.829482  30.535731\n",
       "357071.0            100  3250.0  838625  59.829050  30.346300\n",
       "357107.0            100  1990.0   30400  59.829213  30.378233\n",
       "357153.0            100  1835.0   38000  59.828820  30.419760\n",
       "364331.0            100  2000.0  150000  59.823862  30.573066\n",
       "\n",
       "[1632 rows x 5 columns]"
      ]
     },
     "execution_count": 15,
     "metadata": {},
     "output_type": "execute_result"
    }
   ],
   "source": [
    "df_grouped"
   ]
  },
  {
   "cell_type": "code",
   "execution_count": 16,
   "metadata": {},
   "outputs": [],
   "source": [
    "class ZeroOneScaler:\n",
    "    def __init__(self):\n",
    "        self.min = None\n",
    "        self.max = None\n",
    "\n",
    "    def fit_transform(self, X):\n",
    "        self.min = X.min()\n",
    "        self.max = X.max()\n",
    "        \n",
    "        return (X - self.min) / (self.max - self.min)"
   ]
  },
  {
   "cell_type": "code",
   "execution_count": 17,
   "metadata": {},
   "outputs": [],
   "source": [
    "df_grouped_balanced = df_grouped[df_grouped['price']['min'].between(100, 10000) |\n",
    "                                 df_grouped['price']['max'].between(100, 10000) |\n",
    "                                 df_grouped['price']['median'].between(100, 10000)].copy()"
   ]
  },
  {
   "cell_type": "code",
   "execution_count": 18,
   "metadata": {},
   "outputs": [],
   "source": [
    "scaler = ZeroOneScaler()\n",
    "\n",
    "prices_min = scaler.fit_transform(df_grouped_balanced['price']['min']).values\n",
    "prices_max = scaler.fit_transform(df_grouped_balanced['price']['max']).values\n",
    "prices_mean = scaler.fit_transform(df_grouped_balanced['price']['median']).values"
   ]
  },
  {
   "cell_type": "code",
   "execution_count": 19,
   "metadata": {},
   "outputs": [],
   "source": [
    "df_grouped_balanced['price_normalized_min'] = prices_min\n",
    "df_grouped_balanced['price_normalized_max'] = prices_max\n",
    "df_grouped_balanced['price_normalized_median'] = prices_mean"
   ]
  },
  {
   "cell_type": "code",
   "execution_count": 20,
   "metadata": {},
   "outputs": [],
   "source": [
    "import seaborn as sns"
   ]
  },
  {
   "cell_type": "code",
   "execution_count": 25,
   "metadata": {},
   "outputs": [
    {
     "data": {
      "application/vnd.jupyter.widget-view+json": {
       "model_id": "e926148b650c4c25ad0916732ddbd69b",
       "version_major": 2,
       "version_minor": 0
      },
      "text/plain": [
       "interactive(children=(Dropdown(description='parameter', options=('Минимальные цены', 'Максимальные цены', 'Мед…"
      ]
     },
     "metadata": {},
     "output_type": "display_data"
    }
   ],
   "source": [
    "import os\n",
    "import random\n",
    "\n",
    "from ipywidgets import HTML, interact\n",
    "from ipyleaflet import Map, GeoJSON, basemaps, Marker, Heatmap, Circle\n",
    "from random import uniform\n",
    "from ipywidgets.embed import embed_minimal_html\n",
    "\n",
    "\n",
    "saint_petersburg_coordinates = (59.927628, 30.317613)\n",
    "\n",
    "@interact(parameter=['Минимальные цены', 'Максимальные цены', 'Медианные цены'])\n",
    "def plot_map_with_filter(parameter):\n",
    "    parameter = {'Минимальные цены': 'min', 'Максимальные цены': 'max', 'Медианные цены': 'median'}.get(parameter)\n",
    "    \n",
    "    formulas = {\n",
    "        'min': lambda x: x,\n",
    "        'max': lambda x: x,\n",
    "        'median': lambda x: x\n",
    "    }\n",
    "    \n",
    "    koefs = {\n",
    "        'min': 5000,\n",
    "        'max': 5000,\n",
    "        'median': 1000\n",
    "    }\n",
    "    \n",
    "    m = Map(center=saint_petersburg_coordinates, zoom=10)\n",
    "\n",
    "    heatmap = Heatmap(\n",
    "        locations=[\n",
    "            [\n",
    "                row['latitude']['min'], \n",
    "                row['longitude']['min'], \n",
    "                row['price'][parameter]\n",
    "            ] for row in df_grouped_balanced.iloc],\n",
    "        radius=8,\n",
    "    )\n",
    "\n",
    "    m.add_layer(heatmap)\n",
    "\n",
    "    return m"
   ]
  },
  {
   "cell_type": "code",
   "execution_count": null,
   "metadata": {},
   "outputs": [],
   "source": []
  }
 ],
 "metadata": {
  "kernelspec": {
   "display_name": "best_manik",
   "language": "python",
   "name": "best_manik"
  },
  "language_info": {
   "codemirror_mode": {
    "name": "ipython",
    "version": 3
   },
   "file_extension": ".py",
   "mimetype": "text/x-python",
   "name": "python",
   "nbconvert_exporter": "python",
   "pygments_lexer": "ipython3",
   "version": "3.8.3"
  }
 },
 "nbformat": 4,
 "nbformat_minor": 4
}
