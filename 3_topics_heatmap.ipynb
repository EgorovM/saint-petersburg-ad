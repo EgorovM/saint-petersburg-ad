{
 "cells": [
  {
   "cell_type": "markdown",
   "metadata": {},
   "source": [
    "# Отображение тем на карта\n",
    "\n",
    "Отобразим тепловую карту тем в Санкт-Петербурге"
   ]
  },
  {
   "cell_type": "code",
   "execution_count": 1,
   "metadata": {},
   "outputs": [],
   "source": [
    "import pandas as pd\n",
    "import numpy as np"
   ]
  },
  {
   "cell_type": "code",
   "execution_count": 3,
   "metadata": {},
   "outputs": [],
   "source": [
    "df = pd.read_csv('data/topics_coordinates.csv', sep='\\t')\n",
    "df.topic = df.topic.map(eval)"
   ]
  },
  {
   "cell_type": "code",
   "execution_count": 4,
   "metadata": {},
   "outputs": [
    {
     "data": {
      "text/html": [
       "<div>\n",
       "<style scoped>\n",
       "    .dataframe tbody tr th:only-of-type {\n",
       "        vertical-align: middle;\n",
       "    }\n",
       "\n",
       "    .dataframe tbody tr th {\n",
       "        vertical-align: top;\n",
       "    }\n",
       "\n",
       "    .dataframe thead th {\n",
       "        text-align: right;\n",
       "    }\n",
       "</style>\n",
       "<table border=\"1\" class=\"dataframe\">\n",
       "  <thead>\n",
       "    <tr style=\"text-align: right;\">\n",
       "      <th></th>\n",
       "      <th>square_contain_id</th>\n",
       "      <th>keywords</th>\n",
       "      <th>topic</th>\n",
       "      <th>latitude</th>\n",
       "      <th>longitude</th>\n",
       "    </tr>\n",
       "  </thead>\n",
       "  <tbody>\n",
       "    <tr>\n",
       "      <th>0</th>\n",
       "      <td>56384</td>\n",
       "      <td>['спб', 'маникюр', 'ноготь', 'озерко', 'ресниц...</td>\n",
       "      <td>[Маникюр, Салоны красоты]</td>\n",
       "      <td>60.041502</td>\n",
       "      <td>30.325467</td>\n",
       "    </tr>\n",
       "    <tr>\n",
       "      <th>1</th>\n",
       "      <td>56455</td>\n",
       "      <td>['спб', 'волос', 'ресница', 'наращивание', 'ко...</td>\n",
       "      <td>[Фитнес]</td>\n",
       "      <td>60.041223</td>\n",
       "      <td>30.389278</td>\n",
       "    </tr>\n",
       "    <tr>\n",
       "      <th>2</th>\n",
       "      <td>56455</td>\n",
       "      <td>['спб', 'маникюр', 'платье', 'ноготь', 'красот...</td>\n",
       "      <td>[Маникюр, Услуги красоты, Услуги фотостудий]</td>\n",
       "      <td>60.041223</td>\n",
       "      <td>30.389278</td>\n",
       "    </tr>\n",
       "    <tr>\n",
       "      <th>3</th>\n",
       "      <td>56455</td>\n",
       "      <td>['спб', 'свой', 'ресторан', 'цвет', 'подарок',...</td>\n",
       "      <td>[Услуги фотостудий, Салоны красоты, Доставка т...</td>\n",
       "      <td>60.041223</td>\n",
       "      <td>30.389278</td>\n",
       "    </tr>\n",
       "    <tr>\n",
       "      <th>4</th>\n",
       "      <td>57010</td>\n",
       "      <td>['акро', 'спорт', 'гимнастика', 'акробатика', ...</td>\n",
       "      <td>[Дизайн квартир/домов, Доставка товаров]</td>\n",
       "      <td>60.040760</td>\n",
       "      <td>30.315360</td>\n",
       "    </tr>\n",
       "  </tbody>\n",
       "</table>\n",
       "</div>"
      ],
      "text/plain": [
       "   square_contain_id                                           keywords  \\\n",
       "0              56384  ['спб', 'маникюр', 'ноготь', 'озерко', 'ресниц...   \n",
       "1              56455  ['спб', 'волос', 'ресница', 'наращивание', 'ко...   \n",
       "2              56455  ['спб', 'маникюр', 'платье', 'ноготь', 'красот...   \n",
       "3              56455  ['спб', 'свой', 'ресторан', 'цвет', 'подарок',...   \n",
       "4              57010  ['акро', 'спорт', 'гимнастика', 'акробатика', ...   \n",
       "\n",
       "                                               topic   latitude  longitude  \n",
       "0                          [Маникюр, Салоны красоты]  60.041502  30.325467  \n",
       "1                                           [Фитнес]  60.041223  30.389278  \n",
       "2       [Маникюр, Услуги красоты, Услуги фотостудий]  60.041223  30.389278  \n",
       "3  [Услуги фотостудий, Салоны красоты, Доставка т...  60.041223  30.389278  \n",
       "4           [Дизайн квартир/домов, Доставка товаров]  60.040760  30.315360  "
      ]
     },
     "execution_count": 4,
     "metadata": {},
     "output_type": "execute_result"
    }
   ],
   "source": [
    "df.head()"
   ]
  },
  {
   "cell_type": "code",
   "execution_count": 5,
   "metadata": {},
   "outputs": [],
   "source": [
    "df = df.explode('topic')"
   ]
  },
  {
   "cell_type": "code",
   "execution_count": 8,
   "metadata": {},
   "outputs": [],
   "source": [
    "st_districts_geojson = json.load(open('data/Regions.geojson'))"
   ]
  },
  {
   "cell_type": "code",
   "execution_count": 9,
   "metadata": {},
   "outputs": [],
   "source": [
    "features = st_districts_geojson['features']"
   ]
  },
  {
   "cell_type": "code",
   "execution_count": 10,
   "metadata": {},
   "outputs": [],
   "source": [
    "st_features = list(filter(lambda x: 'Санкт' in x['properties']['NAME'], features))"
   ]
  },
  {
   "cell_type": "code",
   "execution_count": 11,
   "metadata": {},
   "outputs": [],
   "source": [
    "st_districts_geojson['features'] = st_features"
   ]
  },
  {
   "cell_type": "code",
   "execution_count": 12,
   "metadata": {},
   "outputs": [],
   "source": [
    "json.dump(st_districts_geojson, open('st_districts.geosjon', 'w'))"
   ]
  },
  {
   "cell_type": "code",
   "execution_count": 13,
   "metadata": {},
   "outputs": [],
   "source": [
    "topics = list(df.topic.value_counts().index)\n",
    "np.random.shuffle(topics)"
   ]
  },
  {
   "cell_type": "code",
   "execution_count": 14,
   "metadata": {},
   "outputs": [
    {
     "data": {
      "application/vnd.jupyter.widget-view+json": {
       "model_id": "ace99c21c1fe45ff8c4c943ad314b9d4",
       "version_major": 2,
       "version_minor": 0
      },
      "text/plain": [
       "interactive(children=(Dropdown(description='category', options=('Дизайн квартир/домов', 'Доставка товаров', 'У…"
      ]
     },
     "metadata": {},
     "output_type": "display_data"
    }
   ],
   "source": [
    "import os\n",
    "import random\n",
    "\n",
    "from ipywidgets import HTML, interact\n",
    "from ipyleaflet import Map, GeoJSON, basemaps, Marker, Heatmap, Circle\n",
    "from random import uniform\n",
    "from ipywidgets.embed import embed_minimal_html\n",
    "\n",
    "\n",
    "saint_petersburg_coordinates = (59.927628, 30.317613)\n",
    "\n",
    "\n",
    "@interact(category=topics)\n",
    "def plot_map_with_filter(category):\n",
    "    m = Map(center=saint_petersburg_coordinates, zoom=10)\n",
    "    \n",
    "#     circle = Circle(location=(59.927628, 30.317613), radius=30, color=\"green\", fill_color=\"green\")\n",
    "    \n",
    "    heatmap = Heatmap(\n",
    "        locations=[[row['latitude'], row['longitude'], 2] for row in df[(df.topic == category)].iloc],\n",
    "        radius=20\n",
    "    )\n",
    "\n",
    "#     geo_json = GeoJSON(\n",
    "#         data=st_districts_geojson\n",
    "#     )\n",
    "    \n",
    "#     m.add_layer(geo_json)\n",
    "    m.add_layer(heatmap)\n",
    "#     m.add_layer(circle)\n",
    "\n",
    "    return m"
   ]
  },
  {
   "cell_type": "code",
   "execution_count": null,
   "metadata": {},
   "outputs": [],
   "source": []
  }
 ],
 "metadata": {
  "kernelspec": {
   "display_name": "best_manik",
   "language": "python",
   "name": "best_manik"
  },
  "language_info": {
   "codemirror_mode": {
    "name": "ipython",
    "version": 3
   },
   "file_extension": ".py",
   "mimetype": "text/x-python",
   "name": "python",
   "nbconvert_exporter": "python",
   "pygments_lexer": "ipython3",
   "version": "3.8.3"
  }
 },
 "nbformat": 4,
 "nbformat_minor": 4
}
